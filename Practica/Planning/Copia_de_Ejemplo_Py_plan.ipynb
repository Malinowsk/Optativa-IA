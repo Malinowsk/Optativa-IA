{
  "nbformat": 4,
  "nbformat_minor": 0,
  "metadata": {
    "colab": {
      "name": "Copia de Ejemplo Py-plan",
      "provenance": [],
      "collapsed_sections": [],
      "include_colab_link": true
    },
    "kernelspec": {
      "name": "python3",
      "display_name": "Python 3"
    },
    "language_info": {
      "name": "python"
    }
  },
  "cells": [
    {
      "cell_type": "markdown",
      "metadata": {
        "id": "view-in-github",
        "colab_type": "text"
      },
      "source": [
        "<a href=\"https://colab.research.google.com/github/Malinowsk/Optativa-IA/blob/main/Copia_de_Ejemplo_Py_plan.ipynb\" target=\"_parent\"><img src=\"https://colab.research.google.com/assets/colab-badge.svg\" alt=\"Open In Colab\"/></a>"
      ]
    },
    {
      "cell_type": "code",
      "execution_count": null,
      "metadata": {
        "id": "L99C0XtPSVwl"
      },
      "outputs": [],
      "source": [
        "!pip install -U py_plan"
      ]
    },
    {
      "cell_type": "markdown",
      "source": [
        "# **Planning**\n",
        "\n",
        "\n",
        "Para el problema enunciado más abajo, indicar:\n",
        "\n",
        "Cuáles son las acciones con sus pre y post condiciones\n",
        "Definir \tel estado inicial\n",
        "Definir \tel estado final. \t\n",
        "\n",
        "1. Un alumno debe realizar la tarea que le asignaron sus maestros de Matemática, Literatura y Geografía. Como se trata de un niño muy metódico, en primer lugar revisa la teoría de la última clase, en caso de tenerla. De no ser así, debe solicitarla a algún compañero. Luego de leer los apuntes, profundiza sus conocimientos leyendo algún libro relacionado al tema leído. Finalmente, realiza los ejercicios y los revisa cuidadosamente.\n",
        "\n",
        "2. Realizar el ejercicio utilizando la librería Py Plan vista en clase (opcional) \n"
      ],
      "metadata": {
        "id": "idRd-yAvMZie"
      }
    },
    {
      "cell_type": "markdown",
      "source": [
        "1-\n",
        "\n",
        " **Acciones:**\n",
        "\n",
        "> RevisarTeoria(materia) -- Pre condicion: TieneTeoria(materia) -- Post condicion: TeoriaRevisada(materia)\n",
        "\n",
        "> SolicitarTeoria(materia) -- Pre condicion: not(TieneTeoria(materia)) -- Post condicion: TeoriaSolicitada(materia)\n",
        "\n",
        "> LeerLibro(materia) -- Pre condicion: TeoriaRevisada(materia) -- Post condicion: LibroLeido(materia)\n",
        "\n",
        "> RealizarEjercicio(materia) -- Pre condicion: LibroLeido(materia) -- Post condicion: EjercicioRealizado(materia)\n",
        "\n",
        "> RevisarTarea(materia) -- Pre condicion: EjercicioRealizado(materia) -- Post condicion: TareaRevisada(materia)\n",
        "\n",
        "La variable \"materia\" puede tomar los siguientes valores: (Matematica, Literatura, Geografia)\n",
        "\n",
        "**Estado inicial:** "
      ],
      "metadata": {
        "id": "eJS6DLJvNF4N"
      }
    },
    {
      "cell_type": "code",
      "source": [
        "# aca va el codigo del ejercicio \n",
        "\n",
        "\n",
        "RevisarTeoria = Operator('RevisarTeoria',\n",
        "                         \n",
        "                \n",
        "                [('on', '?b', '?x'), # precondicion               # Que b este sobre x \n",
        "                \n",
        "                 (ne, '?b', '?y'),                                    \n",
        "                 (ne, '?x', '?y')],\n",
        "                [('on', '?b', '?y'), # poscondicion               # Que b este sobre y\n",
        "                 ('clear', '?x'),                                 # Sobre x esta libre\n",
        "                 ('not', ('on', '?b', '?x')),                     # Que b no esta sobre x\n",
        "                 ('not', ('clear', '?y'))                         # Que sobre y no esta libre\n",
        "                 ])\n",
        "                         \n",
        "\n",
        "\n",
        "\n",
        "             -- Pre condicion: TieneTeoria(materia) -- Post condicion: TeoriaRevisada(materia)\n",
        "\n",
        "SolicitarTeoria(materia) \n",
        "            -- Pre condicion: not(TieneTeoria(materia)) -- Post condicion: TeoriaSolicitada(materia)\n",
        "\n",
        "LeerLibro(materia) \n",
        "            -- Pre condicion: TeoriaRevisada(materia) -- Post condicion: LibroLeido(materia)\n",
        "\n",
        "RealizarEjercicio(materia) \n",
        "            -- Pre condicion: LibroLeido(materia) -- Post condicion: EjercicioRealizado(materia)\n",
        "\n",
        "RevisarTarea(materia) -- Pre condicion: EjercicioRealizado(materia) -- Post condicion: TareaRevisada(materia)\n",
        "\n",
        "\n",
        "if __name__ == \"__main__\":\n",
        "\n",
        "start = [    ('materia', 'A'),\n",
        "             ('materia', 'B'),\n",
        "             ('materia', 'C'),\n",
        "             ('sin-hacer', 'A'),\n",
        "             ('sin-hacer', 'B'),\n",
        "             ('sin-hacer', 'C'),\n",
        "         \n",
        "             ]\n",
        "      \n",
        " goal =     [('revisada', 'A'),\n",
        "             ('revisada', 'B'),\n",
        "             ('revisada', 'C'),] \n",
        "\n",
        "\n",
        "\n",
        "\n"
      ],
      "metadata": {
        "id": "4uV2esS1UdHR"
      },
      "execution_count": null,
      "outputs": []
    },
    {
      "cell_type": "code",
      "source": [
        "from operator import ne\n",
        "\n",
        "from py_search.uninformed import depth_first_search\n",
        "from py_search.uninformed import breadth_first_search\n",
        "from py_search.uninformed import iterative_deepening_search\n",
        "\n",
        "from py_plan.total_order import StateSpacePlanningProblem\n",
        "from py_plan.base import Operator\n",
        "\n",
        "\n",
        "move = Operator('move',              # accion mover            \n",
        "                [('on', '?b', '?x'), # precondicion               # Que b este sobre x \n",
        "                 ('block', '?b'),                                 # Que b es un bloque\n",
        "                 ('block', '?x'),                                 # Que x es un bloque\n",
        "                 ('block', '?y'),                                 # Que y es un bloque\n",
        "                 ('block', '?other'),                             # Que other es un bloque\n",
        "                 ('block', '?other2'),                            # Que other2 es un bloque\n",
        "                 ('not', ('on', '?other', '?b')),                 # Que no hay otro sobre b \n",
        "                 ('not', ('on', '?other2', '?y')),                # Que no hay otro sobre y\n",
        "                 ('clear', '?b'),                                 # Sobre b esta libre\n",
        "                 ('clear', '?y'),                                 # Sobre y esta libre\n",
        "                 (ne, '?b', '?x'),                                # Que b es distinto de x\n",
        "                 (ne, '?b', '?y'),                                    \n",
        "                 (ne, '?x', '?y')],\n",
        "                [('on', '?b', '?y'), # poscondicion               # Que b este sobre y\n",
        "                 ('clear', '?x'),                                 # Sobre x esta libre\n",
        "                 ('not', ('on', '?b', '?x')),                     # Que b no esta sobre x\n",
        "                 ('not', ('clear', '?y'))                         # Que sobre y no esta libre\n",
        "                 ])\n",
        "\n",
        "move_from_table = Operator('move_from_table',\n",
        "                           [('on', '?b', 'Table'),\n",
        "                            ('block', '?other'),\n",
        "                            ('block', '?other2'),\n",
        "                            ('not', ('on', '?other', '?b')),\n",
        "                            ('not', ('on', '?other2', '?y')),\n",
        "                            ('clear', '?b'),\n",
        "                            ('clear', '?y'),\n",
        "                            ('block', '?b'),\n",
        "                            ('block', '?y'),\n",
        "                            (ne, '?b', '?y')],\n",
        "                           [('on', '?b', '?y'),\n",
        "                            ('not', ('on', '?b', 'Table')),\n",
        "                            ('not', ('clear', '?y'))\n",
        "                            ])\n",
        "\n",
        "move_to_table = Operator('move_to_table',\n",
        "                         [('on', '?b', '?x'),\n",
        "                          ('block', '?b'),\n",
        "                          ('block', '?x'),\n",
        "                          ('block', '?other'),\n",
        "                          ('not', ('on', '?other', '?b')),\n",
        "                          ('clear', '?b'),\n",
        "                          (ne, '?b', '?x')],\n",
        "                         [('on', '?b', 'Table'),\n",
        "                          ('clear', '?x'),\n",
        "                          ('not', ('on', '?b', '?x'))])\n",
        "\n",
        "\n",
        "if __name__ == \"__main__\":\n",
        "\n",
        "    start = [('on', 'A', 'Table'),              # definicion del estado incial\n",
        "             ('on', 'B', 'Table'),\n",
        "             ('on', 'C', 'A'),\n",
        "             ('block', 'A'),\n",
        "             ('block', 'B'),\n",
        "             ('block', 'C'),\n",
        "             ('clear', 'B'),\n",
        "             ('clear', 'C')\n",
        "             ]\n",
        "\n",
        "    goal = [('on', 'A', 'B'),                  # definicion de estado final deseado  \n",
        "            ('on', 'B', 'C'),\n",
        "            ('on', 'C', 'Table')]\n",
        "\n",
        "\n",
        "    def progression(x):\n",
        "        return breadth_first_search(x, forward=True, backward=False)\n",
        "\n",
        "    p = StateSpacePlanningProblem(start, goal, [move_from_table,\n",
        "                                                move_to_table, move])\n",
        "\n",
        "    print(next(progression(p)).path())\n",
        "\n",
        "    print(next(iterative_deepening_search(p)).path())"
      ],
      "metadata": {
        "colab": {
          "base_uri": "https://localhost:8080/"
        },
        "id": "rFfsI3i2TdcP",
        "outputId": "b4a2d2b7-bb36-428d-b74b-d677594d6286"
      },
      "execution_count": null,
      "outputs": [
        {
          "output_type": "stream",
          "name": "stdout",
          "text": [
            "((move_to_table, {'?b': 'C', '?other': 'B', '?x': 'A'}), (move_from_table, {'?other2': 'B', '?b': 'B', '?y': 'C', '?other': 'A'}), (move_from_table, {'?b': 'A', '?other2': 'B', '?y': 'B', '?other': 'A'}))\n",
            "((move_to_table, {'?b': 'C', '?x': 'A', '?other': 'C'}), (move_from_table, {'?b': 'B', '?other': 'B', '?y': 'C', '?other2': 'C'}), (move_from_table, {'?b': 'A', '?other2': 'A', '?y': 'B', '?other': 'A'}))\n"
          ]
        }
      ]
    }
  ]
}